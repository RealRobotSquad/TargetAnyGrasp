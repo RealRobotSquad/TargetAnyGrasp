{
 "cells": [
  {
   "cell_type": "code",
   "execution_count": 2,
   "metadata": {
    "is_executing": true
   },
   "outputs": [],
   "source": [
    "import numpy"
   ]
  },
  {
   "cell_type": "code",
   "execution_count": 3,
   "metadata": {},
   "outputs": [],
   "source": [
    "def transform_to_base(RTo, Rc, Tc):\n",
    "    translation2cam = RTo[:3, -1]\n",
    "    rotation2cam = RTo[:3, :3]\n",
    "    \n",
    "    translation2base = Rc\n",
    "    cam2base = Tc\n",
    "    resR = cam2base @ rotation2cam\n",
    "    resT = translation2cam + translation2base\n",
    "    \n",
    "    return resR, resT"
   ]
  },
  {
   "cell_type": "code",
   "execution_count": 4,
   "metadata": {},
   "outputs": [
    {
     "name": "stdout",
     "output_type": "stream",
     "text": [
      "Rotation Matrix:\n",
      "[[ 0.43631116 -0.05753037  0.8979548 ]\n",
      " [ 0.87814726 -0.19036534 -0.43888316]\n",
      " [ 0.19618858  0.98002617 -0.03253839]]\n"
     ]
    }
   ],
   "source": [
    "import numpy as np\n",
    "import math\n",
    "\n",
    "def euler_to_rotation_matrix(roll, pitch, yaw):\n",
    "    \"\"\"\n",
    "    Convert Euler angles (roll, pitch, yaw) to a rotation matrix.\n",
    "    \n",
    "    Parameters:\n",
    "        roll:   Rotation around the x-axis (in radians)\n",
    "        pitch:  Rotation around the y-axis (in radians)\n",
    "        yaw:    Rotation around the z-axis (in radians)\n",
    "        \n",
    "    Returns:\n",
    "        R:      3x3 rotation matrix\n",
    "    \"\"\"\n",
    "    # Roll, pitch, and yaw angles\n",
    "    cos_roll = math.cos(roll)\n",
    "    sin_roll = math.sin(roll)\n",
    "    cos_pitch = math.cos(pitch)\n",
    "    sin_pitch = math.sin(pitch)\n",
    "    cos_yaw = math.cos(yaw)\n",
    "    sin_yaw = math.sin(yaw)\n",
    "\n",
    "    # Compute rotation matrix\n",
    "    R_roll = np.array([[1, 0, 0],\n",
    "                       [0, cos_roll, -sin_roll],\n",
    "                       [0, sin_roll, cos_roll]])\n",
    "    \n",
    "    R_pitch = np.array([[cos_pitch, 0, sin_pitch],\n",
    "                        [0, 1, 0],\n",
    "                        [-sin_pitch, 0, cos_pitch]])\n",
    "    \n",
    "    R_yaw = np.array([[cos_yaw, -sin_yaw, 0],\n",
    "                      [sin_yaw, cos_yaw, 0],\n",
    "                      [0, 0, 1]])\n",
    "\n",
    "    # Combine the rotations\n",
    "    R = np.dot(R_roll, np.dot(R_pitch, R_yaw))\n",
    "\n",
    "    return R\n",
    "\n",
    "# Example usage\n",
    "# roll = np.radians(45)   # Example roll angle in radians\n",
    "# pitch = np.radians(30)  # Example pitch angle in radians\n",
    "# yaw = np.radians(60)    # Example yaw angle in radians\n",
    "\n",
    "roll = np.array(1.6448)   # Example roll angle in radians\n",
    "pitch = np.array(1.1151)  # Example pitch angle in radians\n",
    "yaw = np.array(0.1311)    # Example yaw angle in radians\n",
    "\n",
    "\n",
    "# Convert Euler angles to rotation matrix\n",
    "rotation_matrix = euler_to_rotation_matrix(roll, pitch, yaw)\n",
    "\n",
    "print(\"Rotation Matrix:\")\n",
    "print(rotation_matrix)\n"
   ]
  },
  {
   "cell_type": "code",
   "execution_count": 5,
   "metadata": {},
   "outputs": [
    {
     "data": {
      "text/plain": [
       "1.0"
      ]
     },
     "execution_count": 5,
     "metadata": {},
     "output_type": "execute_result"
    }
   ],
   "source": [
    "rotation_matrix[0, :] @ rotation_matrix[0, :]"
   ]
  },
  {
   "cell_type": "code",
   "execution_count": 6,
   "metadata": {},
   "outputs": [
    {
     "data": {
      "text/plain": [
       "array([[ 1.00000000e+00,  0.00000000e+00, -6.93889390e-18],\n",
       "       [ 0.00000000e+00,  1.00000000e+00, -1.04083409e-17],\n",
       "       [-6.93889390e-18, -1.04083409e-17,  1.00000000e+00]])"
      ]
     },
     "execution_count": 6,
     "metadata": {},
     "output_type": "execute_result"
    }
   ],
   "source": [
    "rotation_matrix @ rotation_matrix.T"
   ]
  },
  {
   "cell_type": "code",
   "execution_count": 7,
   "metadata": {},
   "outputs": [
    {
     "data": {
      "text/plain": [
       "array([[ 1.00000000e+00, -2.77555756e-17, -6.93889390e-17],\n",
       "       [-2.77555756e-17,  1.00000000e+00, -6.93889390e-18],\n",
       "       [-6.93889390e-17, -6.93889390e-18,  1.00000000e+00]])"
      ]
     },
     "execution_count": 7,
     "metadata": {},
     "output_type": "execute_result"
    }
   ],
   "source": [
    "rotation_matrix.T @ rotation_matrix"
   ]
  },
  {
   "cell_type": "code",
   "execution_count": 16,
   "metadata": {
    "is_executing": true
   },
   "outputs": [],
   "source": [
    "RT_h2b = np.array([[0.] * 4 for _ in range(4)])"
   ]
  },
  {
   "cell_type": "code",
   "execution_count": 19,
   "metadata": {
    "collapsed": false
   },
   "outputs": [
    {
     "data": {
      "text/plain": [
       "array([[ 0.9946749 ,  0.09638559, -0.0364919 ,  0.071     ],\n",
       "       [ 0.06910785, -0.88644302, -0.45764929, -0.2413    ],\n",
       "       [-0.07645878,  0.45269038, -0.88838363,  0.4115    ],\n",
       "       [ 0.        ,  0.        ,  0.        ,  1.        ]])"
      ]
     },
     "execution_count": 19,
     "metadata": {},
     "output_type": "execute_result"
    }
   ],
   "source": [
    "rotation_matrix = euler_to_rotation_matrix(2.6659, -0.0365, -0.0966)\n",
    "RT_h2b[:3, :3] = rotation_matrix\n",
    "RT_h2b[:3, 3] = np.array([0.0710, -0.2413, 0.4115])\n",
    "RT_h2b[3, 3] = 1\n",
    "RT_h2b"
   ]
  },
  {
   "cell_type": "code",
   "execution_count": 20,
   "metadata": {},
   "outputs": [],
   "source": [
    "RT_c2h = np.array([[0.] * 4 for _ in range(4)])"
   ]
  },
  {
   "cell_type": "code",
   "execution_count": 55,
   "metadata": {},
   "outputs": [
    {
     "data": {
      "text/plain": [
       "array([[-1.   ,  0.   ,  0.   ,  0.03 ],\n",
       "       [ 0.   , -1.   ,  0.   ,  0.065],\n",
       "       [ 0.   ,  0.   ,  1.   , -0.09 ],\n",
       "       [ 0.   ,  0.   ,  0.   ,  1.   ]])"
      ]
     },
     "execution_count": 55,
     "metadata": {},
     "output_type": "execute_result"
    }
   ],
   "source": [
    "RT_c2h[:3, :3] = np.array([[-1, 0, 0], [0, -1, 0], [0, 0, 1]])\n",
    "RT_c2h[:3, 3] = np.array([0.03, 0.065, -0.09])\n",
    "RT_c2h[3, 3] = 1\n",
    "RT_c2h"
   ]
  },
  {
   "cell_type": "code",
   "execution_count": 56,
   "metadata": {},
   "outputs": [],
   "source": [
    "RT_c2b = RT_h2b @ RT_c2h"
   ]
  },
  {
   "cell_type": "code",
   "execution_count": 57,
   "metadata": {},
   "outputs": [],
   "source": [
    "import json\n",
    "# Specify the filename\n",
    "filename = \"c2b-pose.json\"\n",
    "\n",
    "# Save the list representation of the array to a JSON file\n",
    "with open(filename, 'w') as f:\n",
    "    json.dump({'pose':RT_c2b.tolist()}, f)"
   ]
  },
  {
   "cell_type": "code",
   "execution_count": 47,
   "metadata": {},
   "outputs": [],
   "source": [
    "with open(filename, 'r') as f:\n",
    "    data = json.load(f)"
   ]
  },
  {
   "cell_type": "code",
   "execution_count": 48,
   "metadata": {},
   "outputs": [
    {
     "data": {
      "text/plain": [
       "array([[-0.9946749 , -0.09638559, -0.0364919 ,  0.03190989],\n",
       "       [-0.06910785,  0.88644302, -0.45764929, -0.23366334],\n",
       "       [ 0.07645878, -0.45269038, -0.88838363,  0.3022359 ],\n",
       "       [ 0.        ,  0.        ,  0.        ,  1.        ]])"
      ]
     },
     "execution_count": 48,
     "metadata": {},
     "output_type": "execute_result"
    }
   ],
   "source": [
    "RT_c2b = np.array(data['pose'])\n",
    "RT_c2b"
   ]
  },
  {
   "cell_type": "code",
   "execution_count": null,
   "metadata": {},
   "outputs": [],
   "source": []
  }
 ],
 "metadata": {
  "kernelspec": {
   "display_name": "ALL",
   "language": "python",
   "name": "python3"
  },
  "language_info": {
   "codemirror_mode": {
    "name": "ipython",
    "version": 3
   },
   "file_extension": ".py",
   "mimetype": "text/x-python",
   "name": "python",
   "nbconvert_exporter": "python",
   "pygments_lexer": "ipython3",
   "version": "3.7.13"
  }
 },
 "nbformat": 4,
 "nbformat_minor": 2
}
